{
 "cells": [
  {
   "cell_type": "markdown",
   "metadata": {},
   "source": [
    "# 53 Python Interview Questions and Answers\n",
    "## Python questions for data scientist and software engineers\n",
    "\n",
    "Not so long ago I started a new role as a “Data Scientist” which turned out to be “Python Engineer” in practice.\n",
    "\n",
    "I would have been more prepared if I’d brushed up on Python’s thread lifecycle instead of recommender systems in advance.\n",
    "\n",
    "In that spirit, here are my python interview/job preparation questions and answers. Most data scientists write a lot code so this applies to both scientists and engineers.\n",
    "\n",
    "Whether you’re interviewing candidates, preparing to apply to jobs or just brushing up on Python, I think this list will be invaluable.\n",
    "\n",
    "Questions are unordered. Let’s begin."
   ]
  },
  {
   "cell_type": "markdown",
   "metadata": {},
   "source": [
    "### (1) What is the difference between a list and a tuple?\n",
    "\n",
    "I’ve been asked this question in every python / data science interview I’ve ever had. Know the answer like the back of your hand.\n",
    "\n",
    "- Lists are mutable. They can be modified after creation.\n",
    "- Tuples are immutable. Once a tuple is created it cannot by changed\n",
    "- Lists have order. They are an ordered sequences, typically of the same type of object. Ie: all user names ordered by creation date, [\"Seth\", \"Ema\", \"Eli\"]\n",
    "- Tuples have structure. Different data types may exist at each index. Ie: a database record in memory, (2, \"Ema\", \"2020–04–16\") # id, name, created_at"
   ]
  },
  {
   "cell_type": "markdown",
   "metadata": {},
   "source": [
    "### (53) How is exception handling performed in Python?\n",
    "Python provides 3 words to handle exceptions, *try*, *except* and *finally*.\n",
    "The syntax looks like this.\n"
   ]
  },
  {
   "cell_type": "code",
   "execution_count": 1,
   "metadata": {},
   "outputs": [
    {
     "name": "stdout",
     "output_type": "stream",
     "text": [
      "complete\n",
      "10\n"
     ]
    }
   ],
   "source": [
    "try:\n",
    "    val = 1 + 'A'\n",
    "except:\n",
    "    val = 10\n",
    "finally:\n",
    "    print('complete')\n",
    "    \n",
    "print(val)"
   ]
  },
  {
   "cell_type": "markdown",
   "metadata": {},
   "source": [
    "\n",
    "You're Welcome. Yours Truly, Crazy Uncle Kris."
   ]
  },
  {
   "cell_type": "markdown",
   "metadata": {},
   "source": [
    "### (1) What is difference between list and tuple?\n"
   ]
  },
  {
   "cell_type": "markdown",
   "metadata": {},
   "source": [
    "List are mutable . They can be changed after creation.\n",
    "list are ordered of same data type.\n",
    "represented as l = list[], or l = []\n",
    "for example = ['enne', 'meenene', 'minee', 'moooo'] or [22, 44, 55,77, 88]\n",
    "\n",
    "\n",
    "Tuple are immutable. They cant be changed after creation.\n",
    "tuple have structure different data type may exist at each index.\n",
    "represented as t = tuple()\n",
    "for example = (1, 8965, 'mickey')\n",
    "\n"
   ]
  },
  {
   "cell_type": "code",
   "execution_count": 4,
   "metadata": {},
   "outputs": [
    {
     "name": "stdout",
     "output_type": "stream",
     "text": [
      "5\n"
     ]
    }
   ],
   "source": [
    "a = [1, 3, 5,88, 99]\n",
    "print(a[2])"
   ]
  },
  {
   "cell_type": "code",
   "execution_count": 5,
   "metadata": {},
   "outputs": [
    {
     "name": "stdout",
     "output_type": "stream",
     "text": [
      "(11, 67, 'titu')\n"
     ]
    }
   ],
   "source": [
    "t = (11, 67, 'titu')\n",
    "print(t)"
   ]
  },
  {
   "cell_type": "markdown",
   "metadata": {},
   "source": [
    "### (2) How is string interpolation performed?"
   ]
  },
  {
   "cell_type": "markdown",
   "metadata": {},
   "source": [
    "Basically formating. there are three ways to do it:"
   ]
  },
  {
   "cell_type": "code",
   "execution_count": 7,
   "metadata": {},
   "outputs": [],
   "source": [
    "name = 'Tanu'"
   ]
  },
  {
   "cell_type": "code",
   "execution_count": 8,
   "metadata": {},
   "outputs": [
    {
     "name": "stdout",
     "output_type": "stream",
     "text": [
      "Hello Tanu\n"
     ]
    }
   ],
   "source": [
    "print(f\"Hello {name}\")"
   ]
  },
  {
   "cell_type": "code",
   "execution_count": 10,
   "metadata": {},
   "outputs": [
    {
     "name": "stdout",
     "output_type": "stream",
     "text": [
      "Hello Tanu\n"
     ]
    }
   ],
   "source": [
    "print(\"Hello %s\" %(name))"
   ]
  },
  {
   "cell_type": "code",
   "execution_count": 11,
   "metadata": {},
   "outputs": [
    {
     "name": "stdout",
     "output_type": "stream",
     "text": [
      "Hello Tanu\n"
     ]
    }
   ],
   "source": [
    "print('Hello {}'.format(name))"
   ]
  },
  {
   "cell_type": "markdown",
   "metadata": {},
   "source": [
    "### (3). Differnce between 'is' and '=='?\n"
   ]
  },
  {
   "cell_type": "markdown",
   "metadata": {},
   "source": [
    "'Is' check identity (whether both obects are same). '==' checks value eqaulity.\n",
    "let say a= 'foo' b = 'bar' c ='foo'\n"
   ]
  },
  {
   "cell_type": "code",
   "execution_count": 1,
   "metadata": {},
   "outputs": [
    {
     "name": "stdout",
     "output_type": "stream",
     "text": [
      "True\n",
      "True\n",
      "True\n",
      "False\n",
      "4437997120\n",
      "4437997120\n",
      "4437999360\n"
     ]
    }
   ],
   "source": [
    "a = [22, 33, 44, 55]\n",
    "b = a\n",
    "c =[22, 33, 44, 55]\n",
    "print(a == c)\n",
    "print(a == b)\n",
    "print(a == c)\n",
    "print(a is c)\n",
    "print(id(a))\n",
    "print(id(b))\n",
    "print(id(c))\n"
   ]
  },
  {
   "cell_type": "markdown",
   "metadata": {},
   "source": [
    "b has a differnt id than a & c"
   ]
  },
  {
   "cell_type": "markdown",
   "metadata": {},
   "source": [
    "### 4. What is a decorator?"
   ]
  },
  {
   "cell_type": "markdown",
   "metadata": {},
   "source": [
    "It adds more functionality to the existing function by passing the existing funtion to the decorator which execute \n",
    "the existing funtion as well as the additional code. Decorator acts as a wrapper around the original function. The \n",
    "nature of object gets decorated but the result of original function is not altered.\n",
    "for example:\n"
   ]
  },
  {
   "cell_type": "code",
   "execution_count": 28,
   "metadata": {},
   "outputs": [
    {
     "name": "stdout",
     "output_type": "stream",
     "text": [
      "******************************\n",
      "%%%%%%%%%%%%%%%%%%%%%%%%%%%%%%\n",
      "Hello World\n",
      "%%%%%%%%%%%%%%%%%%%%%%%%%%%%%%\n",
      "******************************\n"
     ]
    }
   ],
   "source": [
    "def star(func):\n",
    "    def inner(*args, **kwargs):\n",
    "        print(\"*\" * 30)\n",
    "        func(*args, **kwargs)\n",
    "        print(\"*\" * 30)\n",
    "    return inner\n",
    "    \n",
    "def percent(func):\n",
    "    def inner(*args, **kwargs):\n",
    "        print(\"%\" * 30)\n",
    "        func(*args, **kwargs)\n",
    "        print(\"%\"* 30)\n",
    "    return inner\n",
    "\n",
    "\n",
    "@star\n",
    "@percent\n",
    "def printer(msg):\n",
    "    print(msg)\n",
    "    \n",
    "    \n",
    "\n",
    "printer(\"Hello World\")\n",
    "    \n",
    "\n",
    "    \n",
    "    \n",
    "    "
   ]
  },
  {
   "cell_type": "markdown",
   "metadata": {},
   "source": [
    "### (5) Explain the Range Function:"
   ]
  },
  {
   "cell_type": "markdown",
   "metadata": {},
   "source": [
    "Range function defines the range of function in integer value. It can take 1-3 arguments. \n",
    "There are 3 ways to use it.\n",
    "\n",
    "\n",
    "\n",
    "range(stop)\n",
    "range(start, stop)\n",
    "range(start, stop, step)\n"
   ]
  },
  {
   "cell_type": "code",
   "execution_count": 32,
   "metadata": {},
   "outputs": [
    {
     "data": {
      "text/plain": [
       "[0, 1, 2, 3, 4, 5, 6, 7, 8, 9]"
      ]
     },
     "execution_count": 32,
     "metadata": {},
     "output_type": "execute_result"
    }
   ],
   "source": [
    "[i for i in range(10)]"
   ]
  },
  {
   "cell_type": "code",
   "execution_count": 33,
   "metadata": {},
   "outputs": [
    {
     "data": {
      "text/plain": [
       "[5, 6, 7, 8, 9]"
      ]
     },
     "execution_count": 33,
     "metadata": {},
     "output_type": "execute_result"
    }
   ],
   "source": [
    "[i for i in range(5,10)]"
   ]
  },
  {
   "cell_type": "code",
   "execution_count": 34,
   "metadata": {},
   "outputs": [
    {
     "data": {
      "text/plain": [
       "[1, 3, 5, 7, 9]"
      ]
     },
     "execution_count": 34,
     "metadata": {},
     "output_type": "execute_result"
    }
   ],
   "source": [
    "[i for i in range(1,10, 2)]"
   ]
  },
  {
   "cell_type": "markdown",
   "metadata": {},
   "source": [
    "### (6) Defining Class car with properties speed and color \n",
    "Instantiate the class"
   ]
  },
  {
   "cell_type": "code",
   "execution_count": 39,
   "metadata": {},
   "outputs": [
    {
     "data": {
      "text/plain": [
       "'black'"
      ]
     },
     "execution_count": 39,
     "metadata": {},
     "output_type": "execute_result"
    }
   ],
   "source": [
    "class Car:\n",
    "    def __init__(self, color, speed):\n",
    "        self.color = color\n",
    "        self.speed = speed\n",
    "        \n",
    "car1 = Car('black', '100mph')\n",
    "car1.speed\n",
    "car1.color\n"
   ]
  },
  {
   "cell_type": "markdown",
   "metadata": {},
   "source": [
    "### (7) Difference between 'func' and 'func()'"
   ]
  },
  {
   "cell_type": "markdown",
   "metadata": {},
   "source": [
    "All functions are also object in python.\n",
    "'func' is basically a object representing the function which canbe assigned to a variable or passed to a another function.\n",
    "'func()' calls the function and returns the output.\n",
    "\n",
    "func is reference to function.\n",
    "'func()' is called on anything will always contain a return value of that function"
   ]
  },
  {
   "cell_type": "code",
   "execution_count": 45,
   "metadata": {},
   "outputs": [
    {
     "data": {
      "text/plain": [
       "<function __main__.func()>"
      ]
     },
     "execution_count": 45,
     "metadata": {},
     "output_type": "execute_result"
    }
   ],
   "source": [
    "def func():\n",
    "    print('I am called Function')\n",
    "    \n",
    "func\n"
   ]
  },
  {
   "cell_type": "code",
   "execution_count": 60,
   "metadata": {},
   "outputs": [
    {
     "name": "stdout",
     "output_type": "stream",
     "text": [
      "<function func at 0x107070320>\n"
     ]
    }
   ],
   "source": [
    "def func():\n",
    "    print('I am called Function')\n",
    "    \n",
    "a = func\n",
    "def getfunc():\n",
    "    print(func)\n",
    "    \n",
    "getfunc()"
   ]
  },
  {
   "cell_type": "code",
   "execution_count": 52,
   "metadata": {},
   "outputs": [
    {
     "name": "stdout",
     "output_type": "stream",
     "text": [
      "I am called Function\n",
      "I am passing the func in another function\n"
     ]
    }
   ],
   "source": [
    "def printer(func):\n",
    "    print(\"I am passing the func in another function\")\n",
    "    \n",
    "printer(func())\n",
    "    "
   ]
  },
  {
   "cell_type": "code",
   "execution_count": 57,
   "metadata": {},
   "outputs": [
    {
     "name": "stdout",
     "output_type": "stream",
     "text": [
      "I am passing the func in another function\n"
     ]
    }
   ],
   "source": [
    "def printer():\n",
    "    print(\"I am passing the func in another function\")\n",
    "    \n",
    "printer()"
   ]
  },
  {
   "cell_type": "code",
   "execution_count": 55,
   "metadata": {},
   "outputs": [
    {
     "name": "stdout",
     "output_type": "stream",
     "text": [
      "I am called Function\n"
     ]
    }
   ],
   "source": [
    "def func():\n",
    "    print('I am called Function')\n",
    "    \n",
    "func()"
   ]
  },
  {
   "cell_type": "markdown",
   "metadata": {},
   "source": [
    "### 8. Explain how the map function works"
   ]
  },
  {
   "cell_type": "markdown",
   "metadata": {},
   "source": [
    "map() function execute the each item in the iterateale accoring to the function specfied. In other words,\n",
    "map() returns a list made up of return values after applying the function on each element in the sequence."
   ]
  },
  {
   "cell_type": "code",
   "execution_count": 11,
   "metadata": {},
   "outputs": [
    {
     "data": {
      "text/plain": [
       "[2, 100, 20, 94]"
      ]
     },
     "execution_count": 11,
     "metadata": {},
     "output_type": "execute_result"
    }
   ],
   "source": [
    "def add_num(num):\n",
    "    return num + 1\n",
    "\n",
    "\n",
    "list = [1, 99, 19, 93]\n",
    "\n",
    "\n",
    "[i for i in map(add_num, list)]"
   ]
  },
  {
   "cell_type": "code",
   "execution_count": 15,
   "metadata": {},
   "outputs": [
    {
     "name": "stdout",
     "output_type": "stream",
     "text": [
      "[1, 6, 6, 9]\n"
     ]
    }
   ],
   "source": [
    "import random\n",
    "def id_generator(num):\n",
    "    return random.randrange(10)\n",
    "\n",
    "\n",
    "list_of_name = ['Alpha', 'Star', 'Moon', 'Sun']\n",
    "\n",
    "l = [i for i in map(id_generator, list_of_name)]\n"
   ]
  },
  {
   "cell_type": "code",
   "execution_count": 20,
   "metadata": {},
   "outputs": [
    {
     "data": {
      "text/plain": [
       "[10, 400, 27000, 2560000, 312500000, 46656000000]"
      ]
     },
     "execution_count": 20,
     "metadata": {},
     "output_type": "execute_result"
    }
   ],
   "source": [
    "bases = [10, 20, 30, 40, 50, 60]\n",
    "index = [1, 2, 3, 4, 5, 6]\n",
    "powers=[i for i in map(pow, bases, index)]\n",
    "powers"
   ]
  },
  {
   "cell_type": "markdown",
   "metadata": {},
   "source": [
    "### Using LAMBDA"
   ]
  },
  {
   "cell_type": "code",
   "execution_count": 24,
   "metadata": {},
   "outputs": [
    {
     "name": "stdout",
     "output_type": "stream",
     "text": [
      "{0, 1, 64, 512, 8, 343, 216, 729, 27, 125}\n"
     ]
    }
   ],
   "source": [
    "result = set(map(lambda x: x*x*x, range(10)))\n",
    "print(result)"
   ]
  },
  {
   "cell_type": "markdown",
   "metadata": {},
   "source": [
    "### Passing Multiple Iterators to map() Using Lambda"
   ]
  },
  {
   "cell_type": "code",
   "execution_count": 25,
   "metadata": {},
   "outputs": [
    {
     "data": {
      "text/plain": [
       "{10, 40, 90, 160, 250, 360}"
      ]
     },
     "execution_count": 25,
     "metadata": {},
     "output_type": "execute_result"
    }
   ],
   "source": [
    "l = [10, 20, 30, 40, 50, 60]\n",
    "m = [1, 2, 3, 4, 5, 6]\n",
    "\n",
    "result = set(map(lambda x, y: x*y, l, m))\n",
    "result"
   ]
  },
  {
   "cell_type": "markdown",
   "metadata": {},
   "source": [
    "### 9. Explain how the reduce function works"
   ]
  },
  {
   "cell_type": "markdown",
   "metadata": {},
   "source": [
    "reduce() is in functool module. It receives 2 arguments.\n",
    "Intially when the function is called first two item is called. When they return a result the next item and the result \n",
    "combined.\n",
    "Import Functools\n"
   ]
  },
  {
   "cell_type": "code",
   "execution_count": 28,
   "metadata": {},
   "outputs": [
    {
     "name": "stdout",
     "output_type": "stream",
     "text": [
      "120\n"
     ]
    }
   ],
   "source": [
    "import functools\n",
    "def mul(x, y):\n",
    "    return x * y\n",
    "\n",
    "result = functools.reduce(mul, range(1, 6))\n",
    "\n",
    "print(result)\n"
   ]
  },
  {
   "cell_type": "markdown",
   "metadata": {},
   "source": [
    "### 10. Explain how the filter function works"
   ]
  },
  {
   "cell_type": "markdown",
   "metadata": {},
   "source": [
    "filter() returns a boolean. It also receives the two arguments function and sequence on which it will be applied.\n",
    "Each item in the sequence goes through the filter function. Only those values which return True are stored in the \n",
    "filter object.\n"
   ]
  },
  {
   "cell_type": "code",
   "execution_count": 35,
   "metadata": {},
   "outputs": [
    {
     "name": "stdout",
     "output_type": "stream",
     "text": [
      "{3, 5, 7, 9, 11, 13}\n"
     ]
    }
   ],
   "source": [
    "def isPrime(num):\n",
    "    for n in range(2, num):\n",
    "        if num % n == 0:\n",
    "            return False\n",
    "        else: \n",
    "            return True\n",
    "        \n",
    "result = filter(isPrime, range(15))\n",
    "\n",
    "print(set(result))\n",
    "        \n",
    "        \n"
   ]
  },
  {
   "cell_type": "markdown",
   "metadata": {},
   "source": [
    "### Using Lambda Function"
   ]
  },
  {
   "cell_type": "code",
   "execution_count": 40,
   "metadata": {},
   "outputs": [
    {
     "data": {
      "text/plain": [
       "[0, 10, 20, 30, 40, 50, 60, 70, 80, 90]"
      ]
     },
     "execution_count": 40,
     "metadata": {},
     "output_type": "execute_result"
    }
   ],
   "source": [
    "result = [i for i in filter(lambda x : x%2==0 and x%10== 0, range(100))]\n",
    "result"
   ]
  },
  {
   "cell_type": "markdown",
   "metadata": {},
   "source": [
    "### 11. Closures"
   ]
  },
  {
   "cell_type": "markdown",
   "metadata": {},
   "source": [
    "##### A clousure is a nested function which have acess to local variable from the enclosing function which has finished its\n",
    "execution. 3 things have to present -\n",
    "nested function\n",
    "it has access to local variable\n",
    "it is retured from the enclosing function."
   ]
  },
  {
   "cell_type": "code",
   "execution_count": 8,
   "metadata": {},
   "outputs": [
    {
     "name": "stdout",
     "output_type": "stream",
     "text": [
      "Hello World\n"
     ]
    }
   ],
   "source": [
    "def make_printer(msg):\n",
    "    \n",
    "    msg = \"Hello World\"\n",
    "    \n",
    "    def printer():\n",
    "        print(msg)\n",
    "        \n",
    "    return printer\n",
    "    \n",
    "p = make_printer(\"Hi There\")\n",
    "p()\n",
    "    "
   ]
  },
  {
   "cell_type": "markdown",
   "metadata": {},
   "source": [
    "### 12. What is the difference between instance, static and class methods in python?"
   ]
  },
  {
   "cell_type": "markdown",
   "metadata": {},
   "source": [
    "#### Instance method- \n",
    "\n",
    "\n",
    "#### class method\n",
    "A class method is a method which is bound to the class and not the object of the class.\n",
    "They have the access to the state of the class as it takes a class parameter that points \n",
    "to the class and not the object instance.\n",
    "It can modify a class state that would apply across all the instances of the class. \n",
    "For example it can modify a class variable that will be applicable to all the instances.\n",
    "\n",
    "#### Static method\n",
    "A static method is also a method which is bound to the class and not the object of the class.\n",
    "A static method can’t access or modify class state(variables and methods).\n",
    "It is present in a class because it makes sense for the method to be present in class.\n",
    "\n",
    "### static method vs class method\n",
    "A class method takes cls as first parameter while a static method needs no specific parameters.\n",
    "A class method can access or modify class state while a static method can’t access or modify it.\n",
    "In general, static methods know nothing about class state. They are utility type methods that take \n",
    "some parameters and work upon those parameters. On the other hand class methods must have class as parameter.\n",
    "We use @classmethod decorator in python to create a class method and we use @staticmethod decorator to \n",
    "create a static method in python.\n",
    "\n"
   ]
  },
  {
   "cell_type": "code",
   "execution_count": 31,
   "metadata": {},
   "outputs": [
    {
     "name": "stdout",
     "output_type": "stream",
     "text": [
      " This latte is for $5\n",
      "None\n",
      "Its cloudy\n",
      "None\n",
      "specialty change to expresso\n",
      "None\n",
      " This expresso is for $5\n",
      "None\n"
     ]
    }
   ],
   "source": [
    "class Coffee:\n",
    "    specialty = 'latte'\n",
    "    \n",
    "    def __init__(self, price):\n",
    "        self.price = price\n",
    "    \n",
    "    # instance method\n",
    "    def make_coffee(self):\n",
    "        print(f\" This {self.specialty} is for ${self.price}\")\n",
    "        \n",
    "        \n",
    "        \n",
    "    # static method\n",
    "    @staticmethod\n",
    "    def check_weather():\n",
    "        print(\"Its cloudy\")\n",
    "        \n",
    "    # class method\n",
    "    @classmethod\n",
    "    def change_speciality(cls, specialty):\n",
    "        cls.specialty = specialty\n",
    "        print(f\"specialty change to {cls.specialty}\")\n",
    "        \n",
    "    \n",
    "        \n",
    "        \n",
    "coffee_shop = Coffee(5)\n",
    "print(coffee_shop.make_coffee())\n",
    "print(coffee_shop.check_weather()) \n",
    "print(coffee_shop.change_speciality(\"expresso\"))\n",
    "print(coffee_shop.make_coffee())         "
   ]
  },
  {
   "cell_type": "markdown",
   "metadata": {},
   "source": [
    "### 13. How to reverse a list?"
   ]
  },
  {
   "cell_type": "markdown",
   "metadata": {},
   "source": [
    "It reverse the list. But doesnt return the mutated list itself"
   ]
  },
  {
   "cell_type": "code",
   "execution_count": 32,
   "metadata": {},
   "outputs": [
    {
     "name": "stdout",
     "output_type": "stream",
     "text": [
      "['d', 'c', 'b', 'a']\n"
     ]
    }
   ],
   "source": [
    "a = ['a', 'b', 'c', 'd']\n",
    "\n",
    "a.reverse()\n",
    "print(a)"
   ]
  },
  {
   "cell_type": "markdown",
   "metadata": {},
   "source": [
    "### 14. How does string multiplication work?"
   ]
  },
  {
   "cell_type": "code",
   "execution_count": 33,
   "metadata": {},
   "outputs": [
    {
     "name": "stdout",
     "output_type": "stream",
     "text": [
      "catcatcatcatcat\n"
     ]
    }
   ],
   "source": [
    "a = 'cat' * 5\n",
    "print(a)"
   ]
  },
  {
   "cell_type": "markdown",
   "metadata": {},
   "source": [
    "### 15. How does list multiplication work?"
   ]
  },
  {
   "cell_type": "code",
   "execution_count": 34,
   "metadata": {},
   "outputs": [
    {
     "name": "stdout",
     "output_type": "stream",
     "text": [
      "[1, 2, 3, 4, 5, 6, 7, 8, 9, 1, 2, 3, 4, 5, 6, 7, 8, 9]\n"
     ]
    }
   ],
   "source": [
    "a = [1, 2, 3, 4, 5, 6, 7, 8, 9] * 2\n",
    "print(a)\n"
   ]
  },
  {
   "cell_type": "markdown",
   "metadata": {},
   "source": [
    "### 16. What does “self” refer to in a class?"
   ]
  },
  {
   "cell_type": "markdown",
   "metadata": {},
   "source": [
    "Self refers to the instance of a class itself. Its how we give method access to ability to update\n",
    "of object they belong to.\n",
    "\n"
   ]
  },
  {
   "cell_type": "code",
   "execution_count": 40,
   "metadata": {},
   "outputs": [
    {
     "data": {
      "text/plain": [
       "100"
      ]
     },
     "execution_count": 40,
     "metadata": {},
     "output_type": "execute_result"
    }
   ],
   "source": [
    "class Car:\n",
    "    \n",
    "    def __init__(self, color, speed):\n",
    "        self.color = color\n",
    "        self.speed = speed\n",
    "        \n",
    "car1 = Car(\"black\", 100)\n",
    "car1.color\n",
    "car1.speed\n",
    "\n"
   ]
  },
  {
   "cell_type": "markdown",
   "metadata": {},
   "source": [
    "### 17. How can you concatenate lists in python?"
   ]
  },
  {
   "cell_type": "code",
   "execution_count": 41,
   "metadata": {},
   "outputs": [
    {
     "data": {
      "text/plain": [
       "[1, 2, 3, 4, 22]"
      ]
     },
     "execution_count": 41,
     "metadata": {},
     "output_type": "execute_result"
    }
   ],
   "source": [
    "a = [1, 2, 3, 4]\n",
    "b = [22]\n",
    "\n",
    "a + b"
   ]
  },
  {
   "cell_type": "markdown",
   "metadata": {},
   "source": [
    "### 18. Does python call by reference or call by value?"
   ]
  },
  {
   "cell_type": "markdown",
   "metadata": {},
   "source": [
    "#### Python utilizes a system, which is known as “Call by Object Reference” or “Call by assignment”. \n",
    "In the event that you pass arguments like whole numbers, strings or tuples to a function, the passing \n",
    "is like call-by-value because you can not change the value of the immutable objects being passed to the \n",
    "function. Whereas passing mutable objects can be considered as call by reference because when their values \n",
    "are changed inside the function, then it will also be reflected outside the function"
   ]
  },
  {
   "cell_type": "markdown",
   "metadata": {},
   "source": [
    "#### Immutable objects like strings, numbers and tuples are call-by-value.\n",
    "Notice how the value of name didn’t change outside the function when modified inside. \n",
    "The value of name was assigned to a new block in memory for the scope of that function."
   ]
  },
  {
   "cell_type": "code",
   "execution_count": 3,
   "metadata": {},
   "outputs": [
    {
     "name": "stdout",
     "output_type": "stream",
     "text": [
      "matis\n",
      "mat\n"
     ]
    }
   ],
   "source": [
    "name = 'mat'\n",
    "\n",
    "def add_chars(s):\n",
    "    s += 'is'\n",
    "    print(s)\n",
    "    \n",
    "    \n",
    "add_chars(name)\n",
    "print(name)"
   ]
  },
  {
   "cell_type": "markdown",
   "metadata": {},
   "source": [
    "#### Mutable objects like list are call-by-reference. \n",
    "Notice how the list defined outside the function was modified inside the function. \n",
    "The parameter in the function pointed to the original block in memory that stored the value of li."
   ]
  },
  {
   "cell_type": "code",
   "execution_count": 7,
   "metadata": {},
   "outputs": [
    {
     "name": "stdout",
     "output_type": "stream",
     "text": [
      "[1, 2, 3, 4, 5, 6, 9]\n",
      "[1, 2, 3, 4, 5, 6, 9]\n"
     ]
    }
   ],
   "source": [
    "li = [1,2, 3, 4, 5, 6]\n",
    "def add_element(num):\n",
    "    num.append(9)\n",
    "    print(num)\n",
    "    \n",
    "    \n",
    "add_element(li)\n",
    "print(li)"
   ]
  },
  {
   "cell_type": "markdown",
   "metadata": {},
   "source": [
    "### 19. What is the difference between a shallow and a deep copy?"
   ]
  },
  {
   "cell_type": "markdown",
   "metadata": {},
   "source": [
    "#### Shallow copy - is the copy which is referncing to the original copy. Any changes occur in original copy it will \n",
    "reflect in child copy also.\n",
    "#### - Deep copy - is a actual copy of original. The way it populate the copy is recursivly. Both copies are independant \n",
    "of each other. any changes to orignal copy will not refelect on the child copy.\n",
    "\n",
    "#### - for both we need to import a copy module\n",
    "\n"
   ]
  },
  {
   "cell_type": "code",
   "execution_count": 8,
   "metadata": {},
   "outputs": [],
   "source": [
    "# importing copy module \n",
    "import copy \n",
    "  \n",
    "li1 = [1, 2, [3,5], 4] \n",
    "    \n",
    "# using copy for shallow copy   \n",
    "li2 = copy.copy(li1)  \n",
    "  \n",
    "# using deepcopy for deepcopy   \n",
    "li3 = copy.deepcopy(li1)"
   ]
  },
  {
   "cell_type": "markdown",
   "metadata": {},
   "source": [
    "#### 20. What is the difference between lists and arrays?"
   ]
  },
  {
   "cell_type": "markdown",
   "metadata": {},
   "source": [
    "Lists exist in python’s standard library. Arrays are defined by Numpy.\n",
    "Lists can be populated with different types of data at each index. Arrays require homogeneous elements.\n",
    "Arithmetic on lists adds or removes elements from the list. Arithmetic on arrays functions per linear algebra.\n",
    "Arrays also use less memory and come with significantly more functionality."
   ]
  },
  {
   "cell_type": "markdown",
   "metadata": {},
   "source": [
    "### 21. How to concatenate two arrays?"
   ]
  },
  {
   "cell_type": "code",
   "execution_count": 9,
   "metadata": {},
   "outputs": [
    {
     "data": {
      "text/plain": [
       "array([1, 2, 3, 4, 5, 6])"
      ]
     },
     "execution_count": 9,
     "metadata": {},
     "output_type": "execute_result"
    }
   ],
   "source": [
    "import numpy as np\n",
    "a = np.array([1,2,3])\n",
    "b = np.array([4,5,6])\n",
    "np.concatenate((a,b))"
   ]
  },
  {
   "cell_type": "markdown",
   "metadata": {},
   "source": [
    "### 22. What do you like about Python?"
   ]
  },
  {
   "cell_type": "markdown",
   "metadata": {},
   "source": [
    "#### Python is very readable and easy to understand. \n",
    "Compatible. Python offers compatibility with various platforms. \n",
    "So, the developers don’t face the issues that are common for other languages.\n",
    "Object-oriented. Python supports procedure-oriented and object-oriented programming. \n",
    "The first type offers to apply reusable pieces of code. As for OOP, \n",
    "it utilizes objects that are based on data and functionality.\n",
    "Various libraries. There are a lot of libraries for Python."
   ]
  },
  {
   "cell_type": "markdown",
   "metadata": {},
   "source": [
    "### 23. What is you favorite library in Python?"
   ]
  },
  {
   "cell_type": "markdown",
   "metadata": {},
   "source": [
    "Pandas, sqlalchemy, re"
   ]
  },
  {
   "cell_type": "markdown",
   "metadata": {},
   "source": [
    "### 24. Name mutable and immutable objects"
   ]
  },
  {
   "cell_type": "markdown",
   "metadata": {},
   "source": [
    "#### Immutable means the state cannot be modified after creation. Examples are: int, float, bool, string and tuple.\n",
    "#### Mutable means the state can be modified after creation. Examples are list, dict and set."
   ]
  },
  {
   "cell_type": "markdown",
   "metadata": {},
   "source": [
    "### 25. How would you round a number to 3 decimal places?\n",
    "\n",
    "Use the round(value, decimal_places) function."
   ]
  },
  {
   "cell_type": "markdown",
   "metadata": {},
   "source": [
    "### 26. How do you slice a list?"
   ]
  },
  {
   "cell_type": "markdown",
   "metadata": {},
   "source": [
    "#### list[start:stop:step]"
   ]
  },
  {
   "cell_type": "code",
   "execution_count": 12,
   "metadata": {},
   "outputs": [
    {
     "name": "stdout",
     "output_type": "stream",
     "text": [
      "[0, 1]\n",
      "[2, 4, 6]\n"
     ]
    }
   ],
   "source": [
    "a = [0,1,2,3,4,5,6,7,8,9]\n",
    "print(a[:2])\n",
    "print(a[2:8:2])"
   ]
  },
  {
   "cell_type": "markdown",
   "metadata": {},
   "source": [
    "### 27. What is pickling?"
   ]
  },
  {
   "cell_type": "markdown",
   "metadata": {},
   "source": [
    "#### Pickling is the go-to method of serializing and unserializing objects in Python."
   ]
  },
  {
   "cell_type": "code",
   "execution_count": 17,
   "metadata": {},
   "outputs": [
    {
     "name": "stdout",
     "output_type": "stream",
     "text": [
      "[{'id': 1, 'name': 'Stuffy'}, {'id': 2, 'name': 'Fluffy'}]\n"
     ]
    }
   ],
   "source": [
    "import pickle\n",
    "obj = [\n",
    "    {'id':1, 'name':'Stuffy'},\n",
    "    {'id':2, 'name': 'Fluffy'}\n",
    "]\n",
    "\n",
    "with open('file.p', 'wb') as f:\n",
    "    pickle.dump(obj, f)\n",
    "\n",
    "\n",
    "with open('file.p', 'rb') as f:\n",
    "    data = pickle.load(f)\n",
    "    \n",
    "\n",
    "print(data)"
   ]
  },
  {
   "cell_type": "markdown",
   "metadata": {},
   "source": [
    "### 28. How to remove duplicate elements from a list?"
   ]
  },
  {
   "cell_type": "markdown",
   "metadata": {},
   "source": [
    "This can be done by converting the list to a set then back to a list.\n"
   ]
  },
  {
   "cell_type": "code",
   "execution_count": 19,
   "metadata": {},
   "outputs": [
    {
     "name": "stdout",
     "output_type": "stream",
     "text": [
      "[1, 2, 3]\n"
     ]
    }
   ],
   "source": [
    "a = [1,1,1,2,3]\n",
    "a = list(set(a))\n",
    "print(a)"
   ]
  },
  {
   "cell_type": "markdown",
   "metadata": {},
   "source": [
    "### 29. How to check if a value exists in a list?\n",
    "Use in"
   ]
  },
  {
   "cell_type": "code",
   "execution_count": 20,
   "metadata": {},
   "outputs": [
    {
     "data": {
      "text/plain": [
       "True"
      ]
     },
     "execution_count": 20,
     "metadata": {},
     "output_type": "execute_result"
    }
   ],
   "source": [
    "'a' in ['a','b','c']"
   ]
  },
  {
   "cell_type": "code",
   "execution_count": 21,
   "metadata": {},
   "outputs": [
    {
     "data": {
      "text/plain": [
       "False"
      ]
     },
     "execution_count": 21,
     "metadata": {},
     "output_type": "execute_result"
    }
   ],
   "source": [
    "'d' in ['a','b','c']"
   ]
  },
  {
   "cell_type": "markdown",
   "metadata": {},
   "source": [
    "### 30. How to take the absolute value of an integer?\n",
    "This can be done with the abs() function."
   ]
  },
  {
   "cell_type": "code",
   "execution_count": 23,
   "metadata": {},
   "outputs": [
    {
     "data": {
      "text/plain": [
       "2.35"
      ]
     },
     "execution_count": 23,
     "metadata": {},
     "output_type": "execute_result"
    }
   ],
   "source": [
    "abs(2.35)"
   ]
  },
  {
   "cell_type": "code",
   "execution_count": 24,
   "metadata": {},
   "outputs": [
    {
     "data": {
      "text/plain": [
       "3"
      ]
     },
     "execution_count": 24,
     "metadata": {},
     "output_type": "execute_result"
    }
   ],
   "source": [
    "abs(-3)"
   ]
  },
  {
   "cell_type": "markdown",
   "metadata": {},
   "source": [
    "### 31. How to combine two lists into a list of tuples?"
   ]
  },
  {
   "cell_type": "markdown",
   "metadata": {},
   "source": [
    "ZIP function"
   ]
  },
  {
   "cell_type": "code",
   "execution_count": 25,
   "metadata": {},
   "outputs": [
    {
     "data": {
      "text/plain": [
       "[('a', 1), ('b', 2), ('c', 3)]"
      ]
     },
     "execution_count": 25,
     "metadata": {},
     "output_type": "execute_result"
    }
   ],
   "source": [
    "a = ['a','b','c']\n",
    "b = [1,2,3]\n",
    "[(k,v) for k,v in zip(a,b)]"
   ]
  },
  {
   "cell_type": "markdown",
   "metadata": {},
   "source": [
    "### 32. How can you sort a dictionary by key, alphabetically?"
   ]
  },
  {
   "cell_type": "markdown",
   "metadata": {},
   "source": [
    "Dictionay cant be sorted. But we can return sorted list of tuple which is a key value pairr that are in dictionary."
   ]
  },
  {
   "cell_type": "code",
   "execution_count": 26,
   "metadata": {},
   "outputs": [
    {
     "data": {
      "text/plain": [
       "[('a', 1), ('b', 2), ('c', 3), ('d', 4)]"
      ]
     },
     "execution_count": 26,
     "metadata": {},
     "output_type": "execute_result"
    }
   ],
   "source": [
    "d = {'c':3, 'd':4, 'b':2, 'a':1}\n",
    "sorted(d.items())"
   ]
  },
  {
   "cell_type": "markdown",
   "metadata": {},
   "source": [
    "### 33. What is the difference between append and extend?"
   ]
  },
  {
   "cell_type": "markdown",
   "metadata": {},
   "source": [
    "##### append adds value to list \n",
    "\n",
    "\n",
    "##### extends add value to another list\n"
   ]
  },
  {
   "cell_type": "code",
   "execution_count": 31,
   "metadata": {},
   "outputs": [
    {
     "name": "stdout",
     "output_type": "stream",
     "text": [
      "[1, 2, 3, 0, 7, 6]\n",
      "[1, 2, 3, 9, 8, 4]\n"
     ]
    }
   ],
   "source": [
    "a = [1,2,3,0,7]\n",
    "b = [1,2,3]\n",
    "a.append(6)\n",
    "print(a)\n",
    "b.extend([9,8,4])\n",
    "print(b)"
   ]
  },
  {
   "cell_type": "markdown",
   "metadata": {},
   "source": [
    "### 34. What is the difference between dictionaries and JSON?"
   ]
  },
  {
   "cell_type": "markdown",
   "metadata": {},
   "source": [
    "##### Dict is python datatype, a collection of indexed but unordered keys and values.\n",
    "##### JSON is just a string which follows a specified format and is intended for transferring data."
   ]
  },
  {
   "cell_type": "markdown",
   "metadata": {},
   "source": [
    "### 35. What ORMs have you used in Python?"
   ]
  },
  {
   "cell_type": "markdown",
   "metadata": {},
   "source": [
    "sqlalchemy, "
   ]
  },
  {
   "cell_type": "markdown",
   "metadata": {},
   "source": [
    "### 36. How do any() and all() work?"
   ]
  },
  {
   "cell_type": "markdown",
   "metadata": {},
   "source": [
    "##### Any takes a sequence and returns true if any element in the sequence is true.\n",
    "##### All returns true only if all elements in the sequence are true."
   ]
  },
  {
   "cell_type": "code",
   "execution_count": 32,
   "metadata": {},
   "outputs": [
    {
     "name": "stdout",
     "output_type": "stream",
     "text": [
      "False\n",
      "True\n",
      "True\n",
      "False\n",
      "False\n",
      "True\n"
     ]
    }
   ],
   "source": [
    "a = [False, False, False]\n",
    "b = [True, False, False]\n",
    "c = [True, True, True]\n",
    "print( any(a) )\n",
    "print( any(b) )\n",
    "print( any(c) )\n",
    "print( all(a) )\n",
    "print( all(b) )\n",
    "print( all(c) )\n"
   ]
  },
  {
   "cell_type": "markdown",
   "metadata": {},
   "source": [
    "### 37. Are dictionaries or lists faster for lookups?"
   ]
  },
  {
   "cell_type": "markdown",
   "metadata": {},
   "source": [
    "Looking up a value in a list takes O(n) time because the whole list needs to be iterated \n",
    "through until the value is found.\n",
    "Looking up a key in a dictionary takes O(1) time because it’s a hash table.\n",
    "This can make a huge time difference if there are a lot of values so dictionaries are generally \n",
    "recommended for speed. \n",
    "But they do have other limitations like needing unique keys."
   ]
  },
  {
   "cell_type": "markdown",
   "metadata": {},
   "source": [
    "### 38. What is the difference between a module and a package?"
   ]
  },
  {
   "cell_type": "markdown",
   "metadata": {},
   "source": [
    "A module is a file (or collection of files) that can be imported together. for example - import sklearn\n",
    "A package is a directory of modules. for ex - from sklearn import cross_validation\n",
    "So packages are modules, but not all modules are packages."
   ]
  },
  {
   "cell_type": "markdown",
   "metadata": {},
   "source": [
    "### 39. How to increment and decrement an integer in Python?\n",
    "\n",
    "\n",
    "Increments and decrements can be done with +- and -= .\n"
   ]
  },
  {
   "cell_type": "code",
   "execution_count": 33,
   "metadata": {},
   "outputs": [
    {
     "name": "stdout",
     "output_type": "stream",
     "text": [
      "6\n"
     ]
    }
   ],
   "source": [
    "value = 5\n",
    "value += 1\n",
    "print(value)"
   ]
  },
  {
   "cell_type": "code",
   "execution_count": 34,
   "metadata": {},
   "outputs": [
    {
     "name": "stdout",
     "output_type": "stream",
     "text": [
      "4\n"
     ]
    }
   ],
   "source": [
    "value = 5\n",
    "value -= 1\n",
    "print(value)"
   ]
  },
  {
   "cell_type": "markdown",
   "metadata": {},
   "source": [
    "### 40. How to return the binary of an integer?"
   ]
  },
  {
   "cell_type": "markdown",
   "metadata": {},
   "source": [
    "use bin()"
   ]
  },
  {
   "cell_type": "code",
   "execution_count": 35,
   "metadata": {},
   "outputs": [
    {
     "data": {
      "text/plain": [
       "'0b1000'"
      ]
     },
     "execution_count": 35,
     "metadata": {},
     "output_type": "execute_result"
    }
   ],
   "source": [
    "bin(8)"
   ]
  },
  {
   "cell_type": "markdown",
   "metadata": {},
   "source": [
    "### 41. How does a class inherit from another class in Python?"
   ]
  },
  {
   "cell_type": "code",
   "execution_count": 38,
   "metadata": {},
   "outputs": [
    {
     "name": "stdout",
     "output_type": "stream",
     "text": [
      "vroom\n"
     ]
    }
   ],
   "source": [
    "class Car:\n",
    "#     def __init__(self, color, speed, seating):\n",
    "#         self.color = color\n",
    "#         self.speed = speed\n",
    "#         self.seating = seating\n",
    "        \n",
    "    def drive(self):\n",
    "        print('vroom')\n",
    "        \n",
    "class Honda(Car):\n",
    "    pass\n",
    "\n",
    "h = Honda()\n",
    "h.drive()\n",
    "        "
   ]
  },
  {
   "cell_type": "markdown",
   "metadata": {},
   "source": [
    "### 42. How can you remove all whitespace from a string?"
   ]
  },
  {
   "cell_type": "markdown",
   "metadata": {},
   "source": [
    "split the string on whitespaces and then rejoin using join"
   ]
  },
  {
   "cell_type": "code",
   "execution_count": 40,
   "metadata": {},
   "outputs": [
    {
     "data": {
      "text/plain": [
       "['A', 'string', 'with', 'white', 'space']"
      ]
     },
     "execution_count": 40,
     "metadata": {},
     "output_type": "execute_result"
    }
   ],
   "source": [
    "s = 'A string with     white space'\n",
    "s.split()"
   ]
  },
  {
   "cell_type": "code",
   "execution_count": 41,
   "metadata": {},
   "outputs": [
    {
     "data": {
      "text/plain": [
       "'Astringwithwhitespace'"
      ]
     },
     "execution_count": 41,
     "metadata": {},
     "output_type": "execute_result"
    }
   ],
   "source": [
    "''.join(s.split())"
   ]
  },
  {
   "cell_type": "markdown",
   "metadata": {},
   "source": [
    "### 43. Why would you use enumerate() when iterating on a sequence?"
   ]
  },
  {
   "cell_type": "markdown",
   "metadata": {},
   "source": [
    "#### enumerate() allows tracking index when iterating over a sequence. "
   ]
  },
  {
   "cell_type": "markdown",
   "metadata": {},
   "source": [
    "The enumerate() method adds counter to an iterable and returns it (the enumerate object).\n",
    "\n",
    "The enumerate() method takes two parameters:\n",
    "\n",
    "iterable - a sequence, an iterator, or objects that supports iteration\n",
    "start (optional) - enumerate() starts counting from this number. If start is omitted, 0 is taken as start.\n",
    "\n",
    "The enumerate() method adds counter to an iterable and returns it. The returned object is a enumerate object.\n",
    "\n",
    "You can convert enumerate objects to list and tuple using list() and tuple() method respectively."
   ]
  },
  {
   "cell_type": "code",
   "execution_count": 42,
   "metadata": {},
   "outputs": [
    {
     "name": "stdout",
     "output_type": "stream",
     "text": [
      "<class 'enumerate'>\n",
      "[(0, 'bread'), (1, 'milk'), (2, 'butter')]\n",
      "[(10, 'bread'), (11, 'milk'), (12, 'butter')]\n"
     ]
    }
   ],
   "source": [
    "grocery = ['bread', 'milk', 'butter']\n",
    "enumerateGrocery = enumerate(grocery)\n",
    "\n",
    "print(type(enumerateGrocery))\n",
    "\n",
    "# converting to list\n",
    "print(list(enumerateGrocery))\n",
    "\n",
    "# changing the default counter\n",
    "enumerateGrocery = enumerate(grocery, 10)\n",
    "print(list(enumerateGrocery))"
   ]
  },
  {
   "cell_type": "markdown",
   "metadata": {},
   "source": [
    "If we have to write that in for loop it will be like this\n"
   ]
  },
  {
   "cell_type": "code",
   "execution_count": 44,
   "metadata": {},
   "outputs": [
    {
     "name": "stdout",
     "output_type": "stream",
     "text": [
      "0 bread\n",
      "1 milk\n",
      "2 butter\n"
     ]
    }
   ],
   "source": [
    "for i, items in enumerate(grocery):\n",
    "    print(i, items)"
   ]
  },
  {
   "cell_type": "markdown",
   "metadata": {},
   "source": [
    "changing start to 100"
   ]
  },
  {
   "cell_type": "code",
   "execution_count": 45,
   "metadata": {},
   "outputs": [
    {
     "name": "stdout",
     "output_type": "stream",
     "text": [
      "100 bread\n",
      "101 milk\n",
      "102 butter\n"
     ]
    }
   ],
   "source": [
    "for i, items in enumerate(grocery, 100):\n",
    "    print(i, items)"
   ]
  },
  {
   "cell_type": "markdown",
   "metadata": {},
   "source": [
    "### 44. What is the difference between pass, continue and break?"
   ]
  },
  {
   "cell_type": "markdown",
   "metadata": {},
   "source": [
    "pass - just pass. do nothing\n",
    "continue - continues to the next element and halts execution for the current element.\n",
    "break - as soon as the condition met break"
   ]
  },
  {
   "cell_type": "code",
   "execution_count": 47,
   "metadata": {},
   "outputs": [
    {
     "name": "stdout",
     "output_type": "stream",
     "text": [
      "3\n",
      "4\n",
      "5\n"
     ]
    }
   ],
   "source": [
    "a = [1,2,3,4,5]\n",
    "\n",
    "for i in a:\n",
    "    if i < 3:\n",
    "        continue\n",
    "    print(i)"
   ]
  },
  {
   "cell_type": "code",
   "execution_count": 48,
   "metadata": {},
   "outputs": [
    {
     "name": "stdout",
     "output_type": "stream",
     "text": [
      "1\n",
      "2\n",
      "3\n",
      "4\n"
     ]
    }
   ],
   "source": [
    "for i in a:\n",
    "    if i == 5:\n",
    "        break\n",
    "    print(i)   "
   ]
  },
  {
   "cell_type": "markdown",
   "metadata": {},
   "source": [
    "### 45. Convert the following for loop into a list comprehension."
   ]
  },
  {
   "cell_type": "code",
   "execution_count": 49,
   "metadata": {},
   "outputs": [
    {
     "name": "stdout",
     "output_type": "stream",
     "text": [
      "[2, 3, 4, 5, 6]\n"
     ]
    }
   ],
   "source": [
    "a = [1,2,3,4,5]\n",
    " \n",
    "a2 = []\n",
    "for i in a:\n",
    "     a2.append(i + 1)\n",
    "print(a2)"
   ]
  },
  {
   "cell_type": "code",
   "execution_count": 52,
   "metadata": {},
   "outputs": [
    {
     "name": "stdout",
     "output_type": "stream",
     "text": [
      "[2, 3, 4, 5, 6]\n"
     ]
    }
   ],
   "source": [
    "a3 = [i+1 for i in a]\n",
    "print(a3)"
   ]
  },
  {
   "cell_type": "code",
   "execution_count": 54,
   "metadata": {},
   "outputs": [
    {
     "name": "stdout",
     "output_type": "stream",
     "text": [
      "[0, 1, 4, 9, 16, 25, 36, 49, 64, 81]\n"
     ]
    }
   ],
   "source": [
    "squares = []\n",
    "\n",
    "for x in range(10):\n",
    "    squares.append(x**2)\n",
    "    \n",
    "    \n",
    "print(squares)\n",
    "    "
   ]
  },
  {
   "cell_type": "code",
   "execution_count": 56,
   "metadata": {},
   "outputs": [
    {
     "name": "stdout",
     "output_type": "stream",
     "text": [
      "[0, 1, 4, 9, 16, 25, 36, 49, 64, 81]\n"
     ]
    }
   ],
   "source": [
    "a = [x**2 for x in range(10)]\n",
    "print(a)"
   ]
  },
  {
   "cell_type": "markdown",
   "metadata": {},
   "source": [
    "### 46. Give an example of the ternary operator."
   ]
  },
  {
   "cell_type": "markdown",
   "metadata": {},
   "source": [
    "The ternary operator is a one-line if/else statement.\n",
    "The syntax looks like a if condition else b."
   ]
  },
  {
   "cell_type": "code",
   "execution_count": 58,
   "metadata": {},
   "outputs": [
    {
     "data": {
      "text/plain": [
       "'greater'"
      ]
     },
     "execution_count": 58,
     "metadata": {},
     "output_type": "execute_result"
    }
   ],
   "source": [
    "x = 15\n",
    "y = 10\n",
    "'greater' if x > 6 else 'less'"
   ]
  },
  {
   "cell_type": "markdown",
   "metadata": {},
   "source": [
    "### 47. Check if a string only contains numbers.\n",
    "You can use isnumeric()."
   ]
  },
  {
   "cell_type": "code",
   "execution_count": 59,
   "metadata": {},
   "outputs": [
    {
     "data": {
      "text/plain": [
       "False"
      ]
     },
     "execution_count": 59,
     "metadata": {},
     "output_type": "execute_result"
    }
   ],
   "source": [
    "'1234ghs'.isnumeric()"
   ]
  },
  {
   "cell_type": "code",
   "execution_count": 60,
   "metadata": {},
   "outputs": [
    {
     "data": {
      "text/plain": [
       "True"
      ]
     },
     "execution_count": 60,
     "metadata": {},
     "output_type": "execute_result"
    }
   ],
   "source": [
    "'1234'.isnumeric()"
   ]
  },
  {
   "cell_type": "markdown",
   "metadata": {},
   "source": [
    "### 48. Check if a string only contains letters."
   ]
  },
  {
   "cell_type": "markdown",
   "metadata": {},
   "source": [
    "You can use isalpha()."
   ]
  },
  {
   "cell_type": "code",
   "execution_count": 61,
   "metadata": {},
   "outputs": [
    {
     "data": {
      "text/plain": [
       "True"
      ]
     },
     "execution_count": 61,
     "metadata": {},
     "output_type": "execute_result"
    }
   ],
   "source": [
    "'apoorva'.isalpha()"
   ]
  },
  {
   "cell_type": "code",
   "execution_count": 62,
   "metadata": {},
   "outputs": [
    {
     "data": {
      "text/plain": [
       "False"
      ]
     },
     "execution_count": 62,
     "metadata": {},
     "output_type": "execute_result"
    }
   ],
   "source": [
    "'apoorva88'.isalpha()"
   ]
  },
  {
   "cell_type": "markdown",
   "metadata": {},
   "source": [
    "### 49. Check if a string only contains numbers and letters.\n"
   ]
  },
  {
   "cell_type": "code",
   "execution_count": 63,
   "metadata": {},
   "outputs": [
    {
     "data": {
      "text/plain": [
       "False"
      ]
     },
     "execution_count": 63,
     "metadata": {},
     "output_type": "execute_result"
    }
   ],
   "source": [
    "'apoorva88@'.isalnum()"
   ]
  },
  {
   "cell_type": "code",
   "execution_count": 64,
   "metadata": {},
   "outputs": [
    {
     "data": {
      "text/plain": [
       "True"
      ]
     },
     "execution_count": 64,
     "metadata": {},
     "output_type": "execute_result"
    }
   ],
   "source": [
    "'apporva88'.isalnum()"
   ]
  },
  {
   "cell_type": "markdown",
   "metadata": {},
   "source": [
    "### 50. Return a list of keys from a dictionary."
   ]
  },
  {
   "cell_type": "code",
   "execution_count": 65,
   "metadata": {},
   "outputs": [
    {
     "data": {
      "text/plain": [
       "['id', 'name', 'color', 'speed']"
      ]
     },
     "execution_count": 65,
     "metadata": {},
     "output_type": "execute_result"
    }
   ],
   "source": [
    "d = {'id':7, 'name':'Shiba', 'color':'brown', 'speed':'very slow'}\n",
    "list(d)"
   ]
  },
  {
   "cell_type": "markdown",
   "metadata": {},
   "source": [
    "#### For VAlues"
   ]
  },
  {
   "cell_type": "code",
   "execution_count": 66,
   "metadata": {},
   "outputs": [
    {
     "data": {
      "text/plain": [
       "[7, 'Shiba', 'brown', 'very slow']"
      ]
     },
     "execution_count": 66,
     "metadata": {},
     "output_type": "execute_result"
    }
   ],
   "source": [
    "list(d.values())"
   ]
  },
  {
   "cell_type": "markdown",
   "metadata": {},
   "source": [
    "### 50. How do you upper and lowercase a string?"
   ]
  },
  {
   "cell_type": "markdown",
   "metadata": {},
   "source": [
    "upper()\n",
    "lower()"
   ]
  },
  {
   "cell_type": "code",
   "execution_count": 68,
   "metadata": {},
   "outputs": [
    {
     "data": {
      "text/plain": [
       "'APOORVASHUKLA'"
      ]
     },
     "execution_count": 68,
     "metadata": {},
     "output_type": "execute_result"
    }
   ],
   "source": [
    "a = 'ApoorvaShukla'\n",
    "a.upper()\n"
   ]
  },
  {
   "cell_type": "code",
   "execution_count": 69,
   "metadata": {},
   "outputs": [
    {
     "data": {
      "text/plain": [
       "'apoorvashukla'"
      ]
     },
     "execution_count": 69,
     "metadata": {},
     "output_type": "execute_result"
    }
   ],
   "source": [
    "a.lower()"
   ]
  },
  {
   "cell_type": "markdown",
   "metadata": {},
   "source": [
    "### 51. What is the difference between remove, del and pop?"
   ]
  },
  {
   "cell_type": "code",
   "execution_count": 70,
   "metadata": {},
   "outputs": [],
   "source": [
    "l = [1, 2, 3, 4, 5, 7, 9]"
   ]
  },
  {
   "cell_type": "markdown",
   "metadata": {},
   "source": [
    "remove first matching "
   ]
  },
  {
   "cell_type": "code",
   "execution_count": 77,
   "metadata": {},
   "outputs": [
    {
     "data": {
      "text/plain": [
       "[1, 3, 5, 7, 9]"
      ]
     },
     "execution_count": 77,
     "metadata": {},
     "output_type": "execute_result"
    }
   ],
   "source": [
    "l.remove(4)\n",
    "l\n"
   ]
  },
  {
   "cell_type": "markdown",
   "metadata": {},
   "source": [
    "del removes an element by index."
   ]
  },
  {
   "cell_type": "code",
   "execution_count": 79,
   "metadata": {},
   "outputs": [
    {
     "data": {
      "text/plain": [
       "[1, 3, 5, 9]"
      ]
     },
     "execution_count": 79,
     "metadata": {},
     "output_type": "execute_result"
    }
   ],
   "source": [
    "del(l[3])\n",
    "l"
   ]
  },
  {
   "cell_type": "markdown",
   "metadata": {},
   "source": [
    "pop() removes an element by index and returns that element."
   ]
  },
  {
   "cell_type": "code",
   "execution_count": 80,
   "metadata": {},
   "outputs": [
    {
     "data": {
      "text/plain": [
       "9"
      ]
     },
     "execution_count": 80,
     "metadata": {},
     "output_type": "execute_result"
    }
   ],
   "source": [
    "l.pop()"
   ]
  },
  {
   "cell_type": "markdown",
   "metadata": {},
   "source": [
    "### 52. Give an example of dictionary comprehension."
   ]
  },
  {
   "cell_type": "markdown",
   "metadata": {},
   "source": [
    "#### A dictionary comprehension takes the form {key: value for (key, value) in iterable}"
   ]
  },
  {
   "cell_type": "code",
   "execution_count": 82,
   "metadata": {},
   "outputs": [
    {
     "name": "stdout",
     "output_type": "stream",
     "text": [
      "{'a': 1, 'b': 2, 'c': 3, 'd': 4, 'e': 5}\n"
     ]
    }
   ],
   "source": [
    "keys = ['a','b','c','d','e'] \n",
    "values = [1,2,3,4,5]   \n",
    "\n",
    "d = {k:v for (k,v) in zip(keys, values)}\n",
    "print(d)"
   ]
  },
  {
   "cell_type": "code",
   "execution_count": 83,
   "metadata": {},
   "outputs": [
    {
     "name": "stdout",
     "output_type": "stream",
     "text": [
      "{1: 1, 2: 4, 3: 9, 4: 16, 5: 25}\n"
     ]
    }
   ],
   "source": [
    "myDict = {x: x**2 for x in [1,2,3,4,5]} \n",
    "print (myDict) "
   ]
  },
  {
   "cell_type": "code",
   "execution_count": 84,
   "metadata": {},
   "outputs": [
    {
     "name": "stdout",
     "output_type": "stream",
     "text": [
      "{0: 0, 2: 8, 4: 64, 6: 216, 8: 512}\n"
     ]
    }
   ],
   "source": [
    "newdict = {x: x**3 for x in range(10) if x**3 % 4 == 0} \n",
    "print(newdict) "
   ]
  },
  {
   "cell_type": "markdown",
   "metadata": {},
   "source": [
    "### 53. Are dictionaries or lists faster for lookups?"
   ]
  },
  {
   "cell_type": "markdown",
   "metadata": {},
   "source": [
    "Looking up a value in a list takes O(n) time because the whole list needs to \n",
    "be iterated through until the value is found.\n",
    "Looking up a key in a dictionary takes O(1) time because it’s a hash table.\n",
    "This can make a huge time difference if there are a lot of values so dictionaries are\n",
    "generally recommended for speed. But they do have other limitations like needing unique keys."
   ]
  },
  {
   "cell_type": "code",
   "execution_count": null,
   "metadata": {},
   "outputs": [],
   "source": []
  }
 ],
 "metadata": {
  "kernelspec": {
   "display_name": "Python 3",
   "language": "python",
   "name": "python3"
  },
  "language_info": {
   "codemirror_mode": {
    "name": "ipython",
    "version": 3
   },
   "file_extension": ".py",
   "mimetype": "text/x-python",
   "name": "python",
   "nbconvert_exporter": "python",
   "pygments_lexer": "ipython3",
   "version": "3.7.7"
  }
 },
 "nbformat": 4,
 "nbformat_minor": 4
}
